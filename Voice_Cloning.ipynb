{
  "nbformat": 4,
  "nbformat_minor": 0,
  "metadata": {
    "colab": {
      "name": "Copy of Real-Time-Voice-Cloning (mod by Roland Arnoldt).ipynb",
      "provenance": [],
      "collapsed_sections": []
    },
    "kernelspec": {
      "name": "python3",
      "display_name": "Python 3"
    },
    "accelerator": "GPU"
  },
  "cells": [
    {
      "cell_type": "markdown",
      "metadata": {
        "id": "R8XGce8M7EhO",
        "colab_type": "text"
    },
    {
      "cell_type": "markdown",
      "metadata": {
        "id": "HowlVyKzxMd1",
        "colab_type": "text"
      },
      "source": [
        "## setup: clone repo, install dependencies, download pre-trained model"
      ]
    },
    {
      "cell_type": "markdown",
      "metadata": {
        "id": "6yk3PMfBuZhS",
        "colab_type": "text"
      },
      "source": [
        "Make sure GPU is enabled Runtime -> Change Runtime Type -> Hardware Accelerator -> GPU"
      ]
    },
    {
      "cell_type": "code",
      "metadata": {
        "id": "qhunyJSod_UT",
        "colab_type": "code",
        "colab": {}
      },
    {
      "cell_type": "code",
      "metadata": {
        "id": "pE6btDZWeFV0",
        "colab_type": "code",
        "colab": {}
      },
      "source": [
        "cd Real-Time-Voice-Cloning/"
      ],
      "execution_count": 0,
      "outputs": []
    },
    {
      "cell_type": "code",
      "metadata": {
        "id": "0AVd9vLKeKm6",
        "colab_type": "code",
        "colab": {}
      },
      "source": [
        "!pip install -r requirements.txt"
      ],
      "execution_count": 0,
      "outputs": []
    },
    {
      "cell_type": "code",
      "metadata": {
        "id": "VuwgOQlPeN8a",
        "colab_type": "code",
        "colab": {}
      },
      "source": [
        "!gdown https://drive.google.com/uc?id=1n1sPXvT34yXFLT47QZA6FIRGrwMeSsZc"
      ],
      "execution_count": 0,
      "outputs": []
    },
    {
      "cell_type": "code",
      "metadata": {
        "id": "vKLpYfRkfyjX",
        "colab_type": "code",
        "colab": {}
      },
      "source": [
        "!unzip pretrained.zip"
      ],
      "execution_count": 0,
      "outputs": []
    },
    {
      "cell_type": "code",
      "metadata": {
        "id": "84mPqfQGgM6t",
        "colab_type": "code",
        "colab": {}
      },
      "source": [
        "!apt-get install libportaudio2"
      ],
      "execution_count": 0,
      "outputs": []
    },
    {
      "cell_type": "markdown",
      "metadata": {
        "id": "MsWmzGdtuVoI",
        "colab_type": "text"
      },
      "source": [
        "## upload audio from local machine (voice to be cloned, length around 5s, 16kHz/16 bit, wav)"
      ]
    },
    {
      "cell_type": "code",
      "metadata": {
        "id": "s9VYtcYliOGp",
        "colab_type": "code",
        "colab": {}
      },
      "source": [
        "mkdir UserAudio"
      ],
      "execution_count": 0,
      "outputs": []
    },
    {
      "cell_type": "markdown",
      "metadata": {
        "id": "OnYa6r1cz--d",
        "colab_type": "text"
      },
      "source": [
        "### you will have to hit the run button twice on the upload function, errors out on first run\n"
      ]
    },
    {
      "cell_type": "code",
      "metadata": {
        "id": "GVUKIGuEViWD",
        "colab_type": "code",
        "colab": {}
      },
      "source": [
        "from google.colab import files\n",
        "\n",
        "uploaded = files.upload()\n",
        "\n",
        "for fn in uploaded.keys():\n",
        "  print(\"you uploaded {}\".format(fn))\n",
        "  !mv \"$fn\" \"UserAudio/test.wav\""
      ],
      "execution_count": 0,
      "outputs": []
    },
    {
      "cell_type": "markdown",
      "metadata": {
        "id": "-r-C5CKivJ-w",
        "colab_type": "text"
      },
      "source": [
        "## generate audio files (TTS)\n",
        "\n",
        "default text samples: -> can be replaced in demo_cut.py, line 74\n",
        "\n",
        "*   \"Provoke the unexpected. Expect it.\"\n",
        "*   \"The computer with innovative software cannot write a book. An author writes a book\"\n",
        "\n"
      ]
    },
    {
      "cell_type": "code",
      "metadata": {
        "id": "wMQiBeQt0DYz",
        "colab_type": "code",
        "colab": {}
      },
      "source": [
        "!python demo_cut.py --no_sound"
      ],
      "execution_count": 0,
      "outputs": []
    },
    {
      "cell_type": "markdown",
      "metadata": {
        "id": "wpWJsByAw9IG",
        "colab_type": "text"
      },
      "source": [
        "## download files to local machine"
      ]
    },
    {
      "cell_type": "code",
      "metadata": {
        "id": "PyLdbUfks2lv",
        "colab_type": "code",
        "colab": {}
      },
      "source": [
        "for i in range(3):\n",
        "  print(('downloading demo_output_0{}.wav'.format(i)))\n",
        "  audio = \"demo_output_0{}.wav\".format(i)\n",
        "  files.download(audio)"
      ],
      "execution_count": 0,
      "outputs": []
    }
  ]
}
